{
 "cells": [
  {
   "cell_type": "markdown",
   "metadata": {},
   "source": [
    "<center>\n",
    "    <img src=\"https://cf-courses-data.s3.us.cloud-object-storage.appdomain.cloud/IBMDeveloperSkillsNetwork-DS0105EN-SkillsNetwork/labs/Module2/images/SN_web_lightmode.png\" width=\"300\" alt=\"cognitiveclass.ai logo\">\n",
    "</center>\n"
   ]
  },
  {
   "cell_type": "markdown",
   "metadata": {},
   "source": [
    "## My Data Science Notebook\n"
   ]
  },
  {
   "cell_type": "markdown",
   "metadata": {
    "tags": []
   },
   "source": [
    "### Introduction  \n",
    "This notebook explores various aspects of data science including languages, libraries, tools, and arithmetic operations."
   ]
  },
  {
   "cell_type": "markdown",
   "metadata": {},
   "source": [
    "### Data science languages:\n",
    "1. Python: Widely used for data manipulation, analysis, and machine learning. Python libraries like pandas, NumPy, and scikit-learn make it a powerful tool for data science.\n",
    "2. R: A language designed specifically for statistics and data analysis. It has numerous libraries and tools for visualization and statistical analysis.\n",
    "3. SQL: Structured Query Language, used for querying and managing large datasets stored in relational databases.\n",
    "4. Julia: Known for its high-performance capabilities, Julia is increasingly used in data science for numerical and scientific computing.\n",
    "5. Scala: Often used with Apache Spark for large-scale data processing, Scala is popular for handling big data applications.\n",
    "6. Java: While not as common for data analysis, Java is used in big data frameworks such as Hadoop and Spark.\n",
    "7. MATLAB: A proprietary language and environment for numerical computing and data visualization, used primarily in academic and engineering contexts.\n",
    "8. SAS: A specialized language for statistical analysis used by many enterprises for advanced analytics and data management."
   ]
  },
  {
   "cell_type": "markdown",
   "metadata": {},
   "source": [
    "### Data Science Libraries\n",
    "\n",
    "Some popular libraries used in Data Science are:\n",
    "\n",
    "1. **Pandas** - Used for data manipulation and analysis.\n",
    "2. **NumPy** - Provides support for large multi-dimensional arrays and matrices.\n",
    "3. **Matplotlib** - Used for creating static, interactive, and animated visualizations in Python.\n",
    "4. **Seaborn** - A Python visualization library based on Matplotlib that provides a high-level interface for drawing attractive and informative statistical graphics.\n",
    "5. **Scikit-learn** - A machine learning library that provides simple and efficient tools for data mining and data analysis.\n",
    "6. **TensorFlow** - An open-source library used for machine learning and deep learning applications.\n",
    "7. **Keras** - A high-level neural networks API, written in Python, that runs on top of TensorFlow.\n",
    "8. **SciPy** - Used for scientific and technical computing.\n",
    "9. **NLTK (Natural Language Toolkit)** - A library for natural language processing (NLP).\n",
    "10. **PyTorch** - An open-source machine learning library primarily used for applications such as natural language processing."
   ]
  },
  {
   "cell_type": "markdown",
   "metadata": {},
   "source": [
    "### Data Science Tools\n",
    "\n",
    "| Tool             | Description                                     |\n",
    "|------------------|-------------------------------------------------|\n",
    "| Jupyter Notebook | An open-source web application that allows you to create and share documents with live code, equations, visualizations, and narrative text. |\n",
    "| RStudio          | An integrated development environment (IDE) for R. |\n",
    "| Apache Hadoop    | A framework for distributed storage and processing of large data sets. |\n",
    "| Apache Spark     | A unified analytics engine for large-scale data processing, with built-in modules for streaming, SQL, machine learning, and graph processing. |\n",
    "| Tableau          | A powerful data visualization tool used to simplify raw data into an understandable format. |"
   ]
  },
  {
   "cell_type": "markdown",
   "metadata": {},
   "source": [
    "### Arithmetic Expression Examples\n",
    "\n",
    "In this section, we will demonstrate simple arithmetic operations such as addition and multiplication using Python code. These operations are fundamental in performing various calculations in data science."
   ]
  },
  {
   "cell_type": "code",
   "execution_count": 4,
   "metadata": {
    "tags": []
   },
   "outputs": [
    {
     "name": "stdout",
     "output_type": "stream",
     "text": [
      "Multiplication of 5 and 4 is: 20\n",
      "Addition of 5 and 4 is: 9\n"
     ]
    }
   ],
   "source": [
    "# Multiplying and adding numbers\n",
    "multiply_result = 5 * 4\n",
    "add_result = 5 + 4\n",
    "\n",
    "# Print the results\n",
    "print(\"Multiplication of 5 and 4 is:\", multiply_result)\n",
    "print(\"Addition of 5 and 4 is:\", add_result)"
   ]
  },
  {
   "cell_type": "code",
   "execution_count": 5,
   "metadata": {
    "tags": []
   },
   "outputs": [
    {
     "name": "stdout",
     "output_type": "stream",
     "text": [
      "120 minutes is equal to 2.0 hours.\n"
     ]
    }
   ],
   "source": [
    "# Convert minutes to hours\n",
    "minutes = 120\n",
    "hours = minutes / 60\n",
    "\n",
    "# Print the result\n",
    "print(f\"{minutes} minutes is equal to {hours} hours.\")"
   ]
  },
  {
   "cell_type": "markdown",
   "metadata": {},
   "source": [
    "## Objectives of this notebook:\n",
    "\n",
    "- List popular Data Science languages.\n",
    "- Identify commonly used Data Science libraries.\n",
    "- Create a table of Data Science tools.\n",
    "- Demonstrate basic arithmetic expressions in Python.\n",
    "- Convert time from minutes to hours using Python code."
   ]
  },
  {
   "cell_type": "markdown",
   "metadata": {},
   "source": [
    "## Author\n",
    "\n",
    "*Ali Taheri*"
   ]
  },
  {
   "cell_type": "code",
   "execution_count": null,
   "metadata": {},
   "outputs": [],
   "source": []
  }
 ],
 "metadata": {
  "kernelspec": {
   "display_name": "Python",
   "language": "python",
   "name": "conda-env-python-py"
  },
  "language_info": {
   "codemirror_mode": {
    "name": "ipython",
    "version": 3
   },
   "file_extension": ".py",
   "mimetype": "text/x-python",
   "name": "python",
   "nbconvert_exporter": "python",
   "pygments_lexer": "ipython3",
   "version": "3.7.12"
  }
 },
 "nbformat": 4,
 "nbformat_minor": 4
}
